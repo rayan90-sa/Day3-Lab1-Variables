{
 "cells": [
  {
   "cell_type": "code",
   "execution_count": 1,
   "id": "4c036a40",
   "metadata": {},
   "outputs": [
    {
     "data": {
      "text/plain": [
       "'is_3'"
      ]
     },
     "execution_count": 1,
     "metadata": {},
     "output_type": "execute_result"
    }
   ],
   "source": [
    "season = \"winter\"\n",
    "x = 10 \n",
    "y = 10.23\n",
    "a1 = a2 = a3 = \"To_ Day_is_3\"\n",
    "b1 , b2 , b3 = \"To\" , \"Day\", \"is_3\"\n",
    "b3"
   ]
  },
  {
   "cell_type": "code",
   "execution_count": 2,
   "id": "0eba6962",
   "metadata": {},
   "outputs": [
    {
     "data": {
      "text/plain": [
       "'To_ Day_is_3'"
      ]
     },
     "execution_count": 2,
     "metadata": {},
     "output_type": "execute_result"
    }
   ],
   "source": [
    "a2"
   ]
  },
  {
   "cell_type": "code",
   "execution_count": 3,
   "id": "4dd621b5",
   "metadata": {},
   "outputs": [
    {
     "data": {
      "text/plain": [
       "int"
      ]
     },
     "execution_count": 3,
     "metadata": {},
     "output_type": "execute_result"
    }
   ],
   "source": [
    "type(x)"
   ]
  },
  {
   "cell_type": "code",
   "execution_count": 4,
   "id": "1b0544f8",
   "metadata": {},
   "outputs": [
    {
     "data": {
      "text/plain": [
       "float"
      ]
     },
     "execution_count": 4,
     "metadata": {},
     "output_type": "execute_result"
    }
   ],
   "source": [
    "type(y)"
   ]
  },
  {
   "cell_type": "code",
   "execution_count": null,
   "id": "97802140",
   "metadata": {},
   "outputs": [],
   "source": []
  }
 ],
 "metadata": {
  "kernelspec": {
   "display_name": "Python 3 (ipykernel)",
   "language": "python",
   "name": "python3"
  },
  "language_info": {
   "codemirror_mode": {
    "name": "ipython",
    "version": 3
   },
   "file_extension": ".py",
   "mimetype": "text/x-python",
   "name": "python",
   "nbconvert_exporter": "python",
   "pygments_lexer": "ipython3",
   "version": "3.9.12"
  }
 },
 "nbformat": 4,
 "nbformat_minor": 5
}
